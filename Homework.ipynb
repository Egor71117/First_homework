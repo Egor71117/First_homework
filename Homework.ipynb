{
 "cells": [
  {
   "cell_type": "code",
   "execution_count": 4,
   "metadata": {},
   "outputs": [
    {
     "name": "stdout",
     "output_type": "stream",
     "text": [
      "True\n"
     ]
    }
   ],
   "source": [
    "#1. Даны 2 строки long_phrase и short_phrase. \n",
    "#Напишите код, который проверяет действительно ли длинная фраза long_phrase длиннее короткой short_phrase. \n",
    "#И выводит True или False в зависимости от результата сравнения.\n",
    "#long_phrase = 'Насколько проще было бы писать программы, если бы не заказчики'\n",
    "#short_phrase = '640Кб должно хватить для любых задач. Билл Гейтс (по легенде)'\n",
    "long_phrase = 'Насколько проще было бы писать программы, если бы не заказчики'\n",
    "short_phrase = '640Кб должно хватить для любых задач. Билл Гейтс (по легенде)'\n",
    "print(len(long_phrase)>len(short_phrase))"
   ]
  },
  {
   "cell_type": "code",
   "execution_count": 15,
   "metadata": {},
   "outputs": [
    {
     "name": "stdout",
     "output_type": "stream",
     "text": [
      "7 а\n"
     ]
    }
   ],
   "source": [
    "#2. Дана строка text. Определите какая из двух букв встречается в нем чаще - 'а' или 'и'.\n",
    "#text = 'Если программист в 9-00 утра на работе, значит, он там и ночевал'\n",
    "#\n",
    "#P. S. Вам может помочь методы replace или count для строк.\n",
    "text = 'Если программист в 9-00 утра на работе, значит, он там и ночевал'\n",
    "if int(text.count('а'))>int(text.count('и')):\n",
    "    print(text.count('а'),'а')\n",
    "elif int(text.count('а'))<int(text.count('и')):\n",
    "        print(text.count('и'),'и')\n",
    "else:\n",
    "        print(text.count('а'),'равны')\n"
   ]
  },
  {
   "cell_type": "code",
   "execution_count": 27,
   "metadata": {},
   "outputs": [
    {
     "name": "stdin",
     "output_type": "stream",
     "text": [
      " 1048576\n"
     ]
    },
    {
     "name": "stdout",
     "output_type": "stream",
     "text": [
      "Объем файла равен 1.0Mb\n"
     ]
    }
   ],
   "source": [
    "#3. Дано значение объема файла в байтах. Напишите перевод этого значения в мегабайты в формате:\n",
    "#'Объем файла равен 213.68Mb'\n",
    "#\n",
    "#P. S. Найдите определение килобайта. Это не 1000 байт.\n",
    "value_in_bytes=int(input())\n",
    "value_in_mbytes=value_in_bytes/(1024**2)\n",
    "print('Объем файла равен {}Mb'.format(value_in_mbytes)) "
   ]
  },
  {
   "cell_type": "code",
   "execution_count": null,
   "metadata": {},
   "outputs": [],
   "source": [
    "#4. Выведите на экран значение синуса 30 градусов с помощью метода math.sin.\n",
    "import math\n",
    "math.sin(0.52)"
   ]
  },
  {
   "cell_type": "code",
   "execution_count": 1,
   "metadata": {},
   "outputs": [
    {
     "name": "stdout",
     "output_type": "stream",
     "text": [
      "0.30000000000000004\n"
     ]
    }
   ],
   "source": [
    "#5. В прошлом задании у вас скорее всего не получилось точного значения 0.5 из-за конечной точности вычисления синуса. \n",
    "#Но почему некоторые простые операции также могут давать неточный результат? Попробуйте вывести на экран результат операции 0.1 + 0.2. \n",
    "#Почему результат неточен?\n",
    "print(0.1+0.2)\n",
    "#потому что 0.1=1/10=0.1000000000000000055511151231257827021181583404541015625 и т.д., те 0.1 округленный вариант записи 1/10"
   ]
  },
  {
   "cell_type": "code",
   "execution_count": 5,
   "metadata": {},
   "outputs": [
    {
     "name": "stdout",
     "output_type": "stream",
     "text": [
      "2 1\n"
     ]
    }
   ],
   "source": [
    "#**Задания посложнее**\n",
    "#В переменных a и b записаны 2 различных числа. Вам необходимо написать код, который меняет значения a и b местами без использования третьей переменной.\n",
    "a=1\n",
    "b=2\n",
    "a,b=b,a\n",
    "print(a,b)"
   ]
  },
  {
   "cell_type": "code",
   "execution_count": 14,
   "metadata": {},
   "outputs": [
    {
     "name": "stdout",
     "output_type": "stream",
     "text": [
      "19\n"
     ]
    }
   ],
   "source": [
    "#Дано число в двоичной системе счисления: num=10011. Напишите алгоритм перевода этого числа в привычную нам десятичную систему счисления.\n",
    "#Возможно, вам понадобится цикл прохождения всех целых чисел от 0 до m:\n",
    "#for n in range(m)\n",
    "num=10011\n",
    "print(int(str(num),base=2))"
   ]
  }
 ],
 "metadata": {
  "kernelspec": {
   "display_name": "Python 3",
   "language": "python",
   "name": "python3"
  },
  "language_info": {
   "codemirror_mode": {
    "name": "ipython",
    "version": 3
   },
   "file_extension": ".py",
   "mimetype": "text/x-python",
   "name": "python",
   "nbconvert_exporter": "python",
   "pygments_lexer": "ipython3",
   "version": "3.7.3"
  }
 },
 "nbformat": 4,
 "nbformat_minor": 2
}
